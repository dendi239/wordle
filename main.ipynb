{
 "cells": [
  {
   "attachments": {},
   "cell_type": "markdown",
   "metadata": {},
   "source": [
    "# Wordle example demo\n",
    "\n",
    "Let's grab today's wordle from NYTimes and try to solve it."
   ]
  },
  {
   "cell_type": "code",
   "execution_count": 1,
   "metadata": {},
   "outputs": [],
   "source": [
    "from nytimes.wordle import get_wordle\n",
    "wordle = await get_wordle()"
   ]
  },
  {
   "attachments": {},
   "cell_type": "markdown",
   "metadata": {},
   "source": [
    "We'll use our `simplify_words_count` strategy which tries to guarantee the least words left after each guess."
   ]
  },
  {
   "cell_type": "code",
   "execution_count": 2,
   "metadata": {},
   "outputs": [],
   "source": [
    "from simplify_words_count.simplify_words_count import EliminateMostWordsStrategy\n",
    "strategy = EliminateMostWordsStrategy.default()"
   ]
  },
  {
   "cell_type": "code",
   "execution_count": 3,
   "metadata": {},
   "outputs": [],
   "source": [
    "from wordle.wordle import Match, repr_matches"
   ]
  },
  {
   "attachments": {},
   "cell_type": "markdown",
   "metadata": {},
   "source": [
    "Let's go ahead and explore interface a bit: each strategy has two methods:\n",
    "- `new_word()` -- gets new word;\n",
    "- `record(word, matches)` -- takes information about guesses that occured.\n",
    "\n",
    "As for wordle, it returns matches by each attempt. Let's take a closer look."
   ]
  },
  {
   "cell_type": "code",
   "execution_count": 4,
   "metadata": {},
   "outputs": [
    {
     "data": {
      "text/plain": [
       "('seria', '   . ')"
      ]
     },
     "execution_count": 4,
     "metadata": {},
     "output_type": "execute_result"
    }
   ],
   "source": [
    "attempt = strategy.new_word()\n",
    "matches = wordle.test(attempt)\n",
    "strategy.record(attempt, matches)\n",
    "\n",
    "attempt, repr_matches(matches)"
   ]
  },
  {
   "attachments": {},
   "cell_type": "markdown",
   "metadata": {},
   "source": [
    "The only thing left to us is to repeat this process until we find the final word."
   ]
  },
  {
   "cell_type": "code",
   "execution_count": 5,
   "metadata": {},
   "outputs": [],
   "source": [
    "tries = [attempt]\n",
    "\n",
    "while any(m != Match.EXACT_PLACE for m in matches):\n",
    "    attempt = strategy.new_word()\n",
    "    matches = wordle.test(attempt)\n",
    "    strategy.record(attempt, matches)\n",
    "    tries.append(attempt)"
   ]
  },
  {
   "cell_type": "code",
   "execution_count": 6,
   "metadata": {},
   "outputs": [
    {
     "name": "stdout",
     "output_type": "stream",
     "text": [
      "solved in 4 tries\n"
     ]
    }
   ],
   "source": [
    "print(f'solved in {len(tries)} tries')"
   ]
  }
 ],
 "metadata": {
  "kernelspec": {
   "display_name": "Python 3",
   "language": "python",
   "name": "python3"
  },
  "language_info": {
   "codemirror_mode": {
    "name": "ipython",
    "version": 3
   },
   "file_extension": ".py",
   "mimetype": "text/x-python",
   "name": "python",
   "nbconvert_exporter": "python",
   "pygments_lexer": "ipython3",
   "version": "3.11.3"
  },
  "orig_nbformat": 4,
  "vscode": {
   "interpreter": {
    "hash": "b0fa6594d8f4cbf19f97940f81e996739fb7646882a419484c72d19e05852a7e"
   }
  }
 },
 "nbformat": 4,
 "nbformat_minor": 2
}
